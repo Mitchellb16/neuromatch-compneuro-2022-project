{
  "nbformat": 4,
  "nbformat_minor": 0,
  "metadata": {
    "colab": {
      "name": "Classification_NM2022_Sfenj1.ipynb",
      "provenance": [],
      "collapsed_sections": []
    },
    "kernelspec": {
      "name": "python3",
      "display_name": "Python 3"
    },
    "language_info": {
      "name": "python"
    }
  },
  "cells": [
    {
      "cell_type": "markdown",
      "source": [
        "# Links\n",
        "\n",
        "[Open main branch version of this notebook in Colab](https://colab.research.google.com/github/ffvoigt/neuromatch-compneuro-2022-project/blob/main/Classification_NM2022_Sfenj1.ipynb)\n",
        "\n",
        "[Open development branch version of this notebook in Colab](https://colab.research.google.com/github/ffvoigt/neuromatch-compneuro-2022-project/blob/development/Classification_NM2022_Sfenj1.ipynb)\n"
      ],
      "metadata": {
        "id": "LinkCell"
      }
    },
    {
      "cell_type": "markdown",
      "source": [
        "# General\n",
        "\n",
        "The job of this notebook is to:\n",
        "\n",
        "* Load the feature data into a `master_df` DataFrame\n",
        "* Build a relatively simple multinomial GLM to predict behavioral state given features of interest\n",
        "\n",
        "## Style / naming guide / coding hints\n",
        "\n",
        "* Axes in column labels such as 'X' and 'Y' are always capitalized: e.g. `left_ear_X`\n",
        "* All coordinates are in cm, area in cm^2 etc.\n",
        "* All angles are in degrees\n",
        "* 0° is up / north in the video frame\n",
        "\n",
        "\n"
      ],
      "metadata": {
        "id": "jx6Vpa88H5xk"
      }
    },
    {
      "cell_type": "markdown",
      "source": [
        "# Housekeeping"
      ],
      "metadata": {
        "id": "Wk3sQ8H2sNRX"
      }
    },
    {
      "cell_type": "code",
      "source": [
        "import os\n",
        "import json\n",
        "import numpy as np\n",
        "import pandas as pd\n",
        "import matplotlib.pyplot as plt\n",
        "from matplotlib import animation\n",
        "from matplotlib import colors\n",
        "from matplotlib import rc\n",
        "import matplotlib.patches as mpatches\n",
        "import seaborn as sns"
      ],
      "metadata": {
        "id": "BMexSnAusPEy"
      },
      "execution_count": 2,
      "outputs": []
    },
    {
      "cell_type": "code",
      "source": [
        "from sklearn.linear_model import LogisticRegression, RidgeClassifier\n",
        "from numpy import mean\n",
        "from numpy import std\n",
        "from sklearn.datasets import make_classification\n",
        "from sklearn.model_selection import cross_val_score, train_test_split\n",
        "from sklearn.model_selection import RepeatedStratifiedKFold\n",
        "from sklearn.metrics import plot_confusion_matrix\n",
        "\n",
        "from pandas.core.common import random_state"
      ],
      "metadata": {
        "id": "cYCrAYOj2hIR"
      },
      "execution_count": 3,
      "outputs": []
    },
    {
      "cell_type": "markdown",
      "source": [
        "# Loading the data from Google Drive"
      ],
      "metadata": {
        "id": "8uInKycysSz3"
      }
    },
    {
      "cell_type": "code",
      "source": [
        "#Because we are using a Shared with me drive, we need to have a small workaround\n",
        "#In your shared with me folder, right click on:\n",
        "#NMA_2022_Sfenj_Group_1\"\n",
        "#And click \"Make a shortcut\", and have this shortcut within your own drive\n",
        "\n",
        "#now we can mount our drive\n",
        "from pickle import load\n",
        "# mount google drive\n",
        "from google.colab import drive\n",
        "drive.mount('/content/drive')\n",
        "#Since you have mounted your drive, which includes this shortcut, you can now access the files within that shortcut:\n",
        "feature_df = pd.read_csv('/content/drive/MyDrive/NMA_2022_Sfenj_Group_1/unstable_feature_df.csv',index_col=0)\n",
        "\n",
        "#test by showing the head\n",
        "feature_df.head()"
      ],
      "metadata": {
        "colab": {
          "base_uri": "https://localhost:8080/",
          "height": 317
        },
        "id": "78L3nBBpsSG9",
        "outputId": "20496b2b-76a4-4901-b5f2-4e04a7d628bb"
      },
      "execution_count": 4,
      "outputs": [
        {
          "output_type": "stream",
          "name": "stdout",
          "text": [
            "Mounted at /content/drive\n"
          ]
        },
        {
          "output_type": "execute_result",
          "data": {
            "text/plain": [
              "   frame_num  session_num  mouse_id  annotations     nose_X    nose_Y  \\\n",
              "0          0            0         0            3  22.059926  5.382346   \n",
              "1          1            0         0            1  22.096829  5.355307   \n",
              "2          2            0         0            1  22.247188  4.770894   \n",
              "3          3            0         0            1  21.929907  4.645837   \n",
              "4          4            0         0            1  21.804926  4.627531   \n",
              "\n",
              "   left_ear_X  left_ear_Y     neck_X    neck_Y  ...  acc_body_centroid  \\\n",
              "0   21.370271    6.655555  20.574515  5.037518  ...                NaN   \n",
              "1   21.460224    6.681567  20.637943  5.143105  ...                NaN   \n",
              "2   21.663633    6.495032  20.602625  5.142246  ...         -96.316187   \n",
              "3   21.638130    6.237349  20.550597  4.964140  ...         -17.602061   \n",
              "4   21.539674    5.900741  20.372565  4.733632  ...          20.759847   \n",
              "\n",
              "   acc_centroid  distance  poly_area_head  poly_area_body  \\\n",
              "0           NaN  4.244334        0.378178        1.377622   \n",
              "1           NaN  4.257485        0.352497        1.259771   \n",
              "2     -6.692275  4.378617        0.557240        1.263289   \n",
              "3    -13.171507  4.361401        0.437631        1.380436   \n",
              "4     46.678465  4.307015        0.255402        1.513766   \n",
              "\n",
              "   int_nose_2_res_tailbase_distance  res_nose_2_int_tailbase_distance  \\\n",
              "0                          5.721202                          3.287805   \n",
              "1                          5.813085                          3.254851   \n",
              "2                          5.695397                          2.676112   \n",
              "3                          5.561904                          2.318348   \n",
              "4                          5.535471                          2.229669   \n",
              "\n",
              "   head_coalignment  intertailbase_distance  internose_distance  \n",
              "0        111.276780                4.631918            1.493027  \n",
              "1        115.641538                4.732089            1.698219  \n",
              "2        138.684873                4.960240            2.121427  \n",
              "3        133.810323                5.284888            2.441134  \n",
              "4        115.397655                5.360140            2.493508  \n",
              "\n",
              "[5 rows x 40 columns]"
            ],
            "text/html": [
              "\n",
              "  <div id=\"df-c9f54ba2-4c6e-4d1f-b516-c1e23c71f020\">\n",
              "    <div class=\"colab-df-container\">\n",
              "      <div>\n",
              "<style scoped>\n",
              "    .dataframe tbody tr th:only-of-type {\n",
              "        vertical-align: middle;\n",
              "    }\n",
              "\n",
              "    .dataframe tbody tr th {\n",
              "        vertical-align: top;\n",
              "    }\n",
              "\n",
              "    .dataframe thead th {\n",
              "        text-align: right;\n",
              "    }\n",
              "</style>\n",
              "<table border=\"1\" class=\"dataframe\">\n",
              "  <thead>\n",
              "    <tr style=\"text-align: right;\">\n",
              "      <th></th>\n",
              "      <th>frame_num</th>\n",
              "      <th>session_num</th>\n",
              "      <th>mouse_id</th>\n",
              "      <th>annotations</th>\n",
              "      <th>nose_X</th>\n",
              "      <th>nose_Y</th>\n",
              "      <th>left_ear_X</th>\n",
              "      <th>left_ear_Y</th>\n",
              "      <th>neck_X</th>\n",
              "      <th>neck_Y</th>\n",
              "      <th>...</th>\n",
              "      <th>acc_body_centroid</th>\n",
              "      <th>acc_centroid</th>\n",
              "      <th>distance</th>\n",
              "      <th>poly_area_head</th>\n",
              "      <th>poly_area_body</th>\n",
              "      <th>int_nose_2_res_tailbase_distance</th>\n",
              "      <th>res_nose_2_int_tailbase_distance</th>\n",
              "      <th>head_coalignment</th>\n",
              "      <th>intertailbase_distance</th>\n",
              "      <th>internose_distance</th>\n",
              "    </tr>\n",
              "  </thead>\n",
              "  <tbody>\n",
              "    <tr>\n",
              "      <th>0</th>\n",
              "      <td>0</td>\n",
              "      <td>0</td>\n",
              "      <td>0</td>\n",
              "      <td>3</td>\n",
              "      <td>22.059926</td>\n",
              "      <td>5.382346</td>\n",
              "      <td>21.370271</td>\n",
              "      <td>6.655555</td>\n",
              "      <td>20.574515</td>\n",
              "      <td>5.037518</td>\n",
              "      <td>...</td>\n",
              "      <td>NaN</td>\n",
              "      <td>NaN</td>\n",
              "      <td>4.244334</td>\n",
              "      <td>0.378178</td>\n",
              "      <td>1.377622</td>\n",
              "      <td>5.721202</td>\n",
              "      <td>3.287805</td>\n",
              "      <td>111.276780</td>\n",
              "      <td>4.631918</td>\n",
              "      <td>1.493027</td>\n",
              "    </tr>\n",
              "    <tr>\n",
              "      <th>1</th>\n",
              "      <td>1</td>\n",
              "      <td>0</td>\n",
              "      <td>0</td>\n",
              "      <td>1</td>\n",
              "      <td>22.096829</td>\n",
              "      <td>5.355307</td>\n",
              "      <td>21.460224</td>\n",
              "      <td>6.681567</td>\n",
              "      <td>20.637943</td>\n",
              "      <td>5.143105</td>\n",
              "      <td>...</td>\n",
              "      <td>NaN</td>\n",
              "      <td>NaN</td>\n",
              "      <td>4.257485</td>\n",
              "      <td>0.352497</td>\n",
              "      <td>1.259771</td>\n",
              "      <td>5.813085</td>\n",
              "      <td>3.254851</td>\n",
              "      <td>115.641538</td>\n",
              "      <td>4.732089</td>\n",
              "      <td>1.698219</td>\n",
              "    </tr>\n",
              "    <tr>\n",
              "      <th>2</th>\n",
              "      <td>2</td>\n",
              "      <td>0</td>\n",
              "      <td>0</td>\n",
              "      <td>1</td>\n",
              "      <td>22.247188</td>\n",
              "      <td>4.770894</td>\n",
              "      <td>21.663633</td>\n",
              "      <td>6.495032</td>\n",
              "      <td>20.602625</td>\n",
              "      <td>5.142246</td>\n",
              "      <td>...</td>\n",
              "      <td>-96.316187</td>\n",
              "      <td>-6.692275</td>\n",
              "      <td>4.378617</td>\n",
              "      <td>0.557240</td>\n",
              "      <td>1.263289</td>\n",
              "      <td>5.695397</td>\n",
              "      <td>2.676112</td>\n",
              "      <td>138.684873</td>\n",
              "      <td>4.960240</td>\n",
              "      <td>2.121427</td>\n",
              "    </tr>\n",
              "    <tr>\n",
              "      <th>3</th>\n",
              "      <td>3</td>\n",
              "      <td>0</td>\n",
              "      <td>0</td>\n",
              "      <td>1</td>\n",
              "      <td>21.929907</td>\n",
              "      <td>4.645837</td>\n",
              "      <td>21.638130</td>\n",
              "      <td>6.237349</td>\n",
              "      <td>20.550597</td>\n",
              "      <td>4.964140</td>\n",
              "      <td>...</td>\n",
              "      <td>-17.602061</td>\n",
              "      <td>-13.171507</td>\n",
              "      <td>4.361401</td>\n",
              "      <td>0.437631</td>\n",
              "      <td>1.380436</td>\n",
              "      <td>5.561904</td>\n",
              "      <td>2.318348</td>\n",
              "      <td>133.810323</td>\n",
              "      <td>5.284888</td>\n",
              "      <td>2.441134</td>\n",
              "    </tr>\n",
              "    <tr>\n",
              "      <th>4</th>\n",
              "      <td>4</td>\n",
              "      <td>0</td>\n",
              "      <td>0</td>\n",
              "      <td>1</td>\n",
              "      <td>21.804926</td>\n",
              "      <td>4.627531</td>\n",
              "      <td>21.539674</td>\n",
              "      <td>5.900741</td>\n",
              "      <td>20.372565</td>\n",
              "      <td>4.733632</td>\n",
              "      <td>...</td>\n",
              "      <td>20.759847</td>\n",
              "      <td>46.678465</td>\n",
              "      <td>4.307015</td>\n",
              "      <td>0.255402</td>\n",
              "      <td>1.513766</td>\n",
              "      <td>5.535471</td>\n",
              "      <td>2.229669</td>\n",
              "      <td>115.397655</td>\n",
              "      <td>5.360140</td>\n",
              "      <td>2.493508</td>\n",
              "    </tr>\n",
              "  </tbody>\n",
              "</table>\n",
              "<p>5 rows × 40 columns</p>\n",
              "</div>\n",
              "      <button class=\"colab-df-convert\" onclick=\"convertToInteractive('df-c9f54ba2-4c6e-4d1f-b516-c1e23c71f020')\"\n",
              "              title=\"Convert this dataframe to an interactive table.\"\n",
              "              style=\"display:none;\">\n",
              "        \n",
              "  <svg xmlns=\"http://www.w3.org/2000/svg\" height=\"24px\"viewBox=\"0 0 24 24\"\n",
              "       width=\"24px\">\n",
              "    <path d=\"M0 0h24v24H0V0z\" fill=\"none\"/>\n",
              "    <path d=\"M18.56 5.44l.94 2.06.94-2.06 2.06-.94-2.06-.94-.94-2.06-.94 2.06-2.06.94zm-11 1L8.5 8.5l.94-2.06 2.06-.94-2.06-.94L8.5 2.5l-.94 2.06-2.06.94zm10 10l.94 2.06.94-2.06 2.06-.94-2.06-.94-.94-2.06-.94 2.06-2.06.94z\"/><path d=\"M17.41 7.96l-1.37-1.37c-.4-.4-.92-.59-1.43-.59-.52 0-1.04.2-1.43.59L10.3 9.45l-7.72 7.72c-.78.78-.78 2.05 0 2.83L4 21.41c.39.39.9.59 1.41.59.51 0 1.02-.2 1.41-.59l7.78-7.78 2.81-2.81c.8-.78.8-2.07 0-2.86zM5.41 20L4 18.59l7.72-7.72 1.47 1.35L5.41 20z\"/>\n",
              "  </svg>\n",
              "      </button>\n",
              "      \n",
              "  <style>\n",
              "    .colab-df-container {\n",
              "      display:flex;\n",
              "      flex-wrap:wrap;\n",
              "      gap: 12px;\n",
              "    }\n",
              "\n",
              "    .colab-df-convert {\n",
              "      background-color: #E8F0FE;\n",
              "      border: none;\n",
              "      border-radius: 50%;\n",
              "      cursor: pointer;\n",
              "      display: none;\n",
              "      fill: #1967D2;\n",
              "      height: 32px;\n",
              "      padding: 0 0 0 0;\n",
              "      width: 32px;\n",
              "    }\n",
              "\n",
              "    .colab-df-convert:hover {\n",
              "      background-color: #E2EBFA;\n",
              "      box-shadow: 0px 1px 2px rgba(60, 64, 67, 0.3), 0px 1px 3px 1px rgba(60, 64, 67, 0.15);\n",
              "      fill: #174EA6;\n",
              "    }\n",
              "\n",
              "    [theme=dark] .colab-df-convert {\n",
              "      background-color: #3B4455;\n",
              "      fill: #D2E3FC;\n",
              "    }\n",
              "\n",
              "    [theme=dark] .colab-df-convert:hover {\n",
              "      background-color: #434B5C;\n",
              "      box-shadow: 0px 1px 3px 1px rgba(0, 0, 0, 0.15);\n",
              "      filter: drop-shadow(0px 1px 2px rgba(0, 0, 0, 0.3));\n",
              "      fill: #FFFFFF;\n",
              "    }\n",
              "  </style>\n",
              "\n",
              "      <script>\n",
              "        const buttonEl =\n",
              "          document.querySelector('#df-c9f54ba2-4c6e-4d1f-b516-c1e23c71f020 button.colab-df-convert');\n",
              "        buttonEl.style.display =\n",
              "          google.colab.kernel.accessAllowed ? 'block' : 'none';\n",
              "\n",
              "        async function convertToInteractive(key) {\n",
              "          const element = document.querySelector('#df-c9f54ba2-4c6e-4d1f-b516-c1e23c71f020');\n",
              "          const dataTable =\n",
              "            await google.colab.kernel.invokeFunction('convertToInteractive',\n",
              "                                                     [key], {});\n",
              "          if (!dataTable) return;\n",
              "\n",
              "          const docLinkHtml = 'Like what you see? Visit the ' +\n",
              "            '<a target=\"_blank\" href=https://colab.research.google.com/notebooks/data_table.ipynb>data table notebook</a>'\n",
              "            + ' to learn more about interactive tables.';\n",
              "          element.innerHTML = '';\n",
              "          dataTable['output_type'] = 'display_data';\n",
              "          await google.colab.output.renderOutput(dataTable, element);\n",
              "          const docLink = document.createElement('div');\n",
              "          docLink.innerHTML = docLinkHtml;\n",
              "          element.appendChild(docLink);\n",
              "        }\n",
              "      </script>\n",
              "    </div>\n",
              "  </div>\n",
              "  "
            ]
          },
          "metadata": {},
          "execution_count": 4
        }
      ]
    },
    {
      "cell_type": "markdown",
      "source": [
        "#### Logistic Regression by Drew "
      ],
      "metadata": {
        "id": "9t_TmIPZ4n4U"
      }
    },
    {
      "cell_type": "code",
      "source": [
        "#Remove NaNs. There is one NaN in the area inherently, and then a few nans in speed and acc since they require differencing\n",
        "feature_df = feature_df.dropna(axis = 0) \n",
        "\n",
        "#optional to remove all \"other\" states, coded as state 3\n",
        "feature_df_no_other = feature_df[feature_df.annotations != 3]\n",
        "#feature_df = feature_df_no_other\n",
        "\n",
        "#Get a list of predictor names. Feel free to experiment\n",
        "pred_names = ['centroid_X','centroid_Y','poly_area_head','poly_area_body','spd_centroid','acc_centroid','distance','head_vs_body_angle','head_orientation']\n",
        "#pred_names = ['centroid_X','centroid_Y','poly_area_head','spd_centroid','acc_centroid']\n",
        "\n",
        "#to dO: \n",
        "#mouse id\n",
        "#moving average/smoothing\n",
        "#Interaction terms\n",
        "\n",
        "#Use predictor names to get a dataframe of just predictors\n",
        "x = feature_df[pred_names]\n",
        "\n",
        "#optional get data only of res or int\n",
        "feature_df_res = feature_df[feature_df.mouse_id == 0]\n",
        "feature_df_int = feature_df[feature_df.mouse_id == 0]\n",
        "x_res = feature_df_res[pred_names]\n",
        "x_int = feature_df_int[pred_names]\n",
        "\n",
        "#Get the annotations (beh states) to predict\n",
        "y = feature_df['annotations']\n",
        "y_res = feature_df_res['annotations']\n",
        "y_int =  feature_df_int['annotations']\n",
        "# annotations: Vocabulary:  {'attack': 0, 'investigation': 1, 'mount': 2, 'other': 3}\n",
        "\n",
        "#specify model, have it as multinomial to predict beh states (0,1,2,3)\n",
        "model = LogisticRegression(multi_class='multinomial', solver='lbfgs',max_iter=100)"
      ],
      "metadata": {
        "id": "AGbHm0R95hAV"
      },
      "execution_count": 5,
      "outputs": []
    },
    {
      "cell_type": "code",
      "source": [
        "#Fit the model (predict y from x), given the above terms\n",
        "model.fit(x,y)\n",
        "\n",
        "# define the model evaluation procedure\n",
        "cv = RepeatedStratifiedKFold(n_splits=4, n_repeats=2, random_state=1)\n",
        "# evaluate the model and collect the scores\n",
        "n_scores = cross_val_score(model, x, y, scoring='accuracy', cv=cv, n_jobs=-1)\n",
        "# report the model performance\n",
        "print('Mean Accuracy: %.3f (%.3f)' % (mean(n_scores), std(n_scores)))\n"
      ],
      "metadata": {
        "id": "eQTf6WBAsLV1",
        "colab": {
          "base_uri": "https://localhost:8080/",
          "height": 519
        },
        "outputId": "24d1b298-ba7d-4554-9ea5-b211e72e6e50"
      },
      "execution_count": 6,
      "outputs": [
        {
          "output_type": "stream",
          "name": "stderr",
          "text": [
            "/usr/local/lib/python3.7/dist-packages/sklearn/linear_model/_logistic.py:818: ConvergenceWarning: lbfgs failed to converge (status=1):\n",
            "STOP: TOTAL NO. of ITERATIONS REACHED LIMIT.\n",
            "\n",
            "Increase the number of iterations (max_iter) or scale the data as shown in:\n",
            "    https://scikit-learn.org/stable/modules/preprocessing.html\n",
            "Please also refer to the documentation for alternative solver options:\n",
            "    https://scikit-learn.org/stable/modules/linear_model.html#logistic-regression\n",
            "  extra_warning_msg=_LOGISTIC_SOLVER_CONVERGENCE_MSG,\n"
          ]
        },
        {
          "output_type": "error",
          "ename": "KeyboardInterrupt",
          "evalue": "ignored",
          "traceback": [
            "\u001b[0;31m---------------------------------------------------------------------------\u001b[0m",
            "\u001b[0;31mKeyboardInterrupt\u001b[0m                         Traceback (most recent call last)",
            "\u001b[0;32m<ipython-input-6-925a971d06fb>\u001b[0m in \u001b[0;36m<module>\u001b[0;34m()\u001b[0m\n\u001b[1;32m      5\u001b[0m \u001b[0mcv\u001b[0m \u001b[0;34m=\u001b[0m \u001b[0mRepeatedStratifiedKFold\u001b[0m\u001b[0;34m(\u001b[0m\u001b[0mn_splits\u001b[0m\u001b[0;34m=\u001b[0m\u001b[0;36m4\u001b[0m\u001b[0;34m,\u001b[0m \u001b[0mn_repeats\u001b[0m\u001b[0;34m=\u001b[0m\u001b[0;36m2\u001b[0m\u001b[0;34m,\u001b[0m \u001b[0mrandom_state\u001b[0m\u001b[0;34m=\u001b[0m\u001b[0;36m1\u001b[0m\u001b[0;34m)\u001b[0m\u001b[0;34m\u001b[0m\u001b[0;34m\u001b[0m\u001b[0m\n\u001b[1;32m      6\u001b[0m \u001b[0;31m# evaluate the model and collect the scores\u001b[0m\u001b[0;34m\u001b[0m\u001b[0;34m\u001b[0m\u001b[0;34m\u001b[0m\u001b[0m\n\u001b[0;32m----> 7\u001b[0;31m \u001b[0mn_scores\u001b[0m \u001b[0;34m=\u001b[0m \u001b[0mcross_val_score\u001b[0m\u001b[0;34m(\u001b[0m\u001b[0mmodel\u001b[0m\u001b[0;34m,\u001b[0m \u001b[0mx\u001b[0m\u001b[0;34m,\u001b[0m \u001b[0my\u001b[0m\u001b[0;34m,\u001b[0m \u001b[0mscoring\u001b[0m\u001b[0;34m=\u001b[0m\u001b[0;34m'accuracy'\u001b[0m\u001b[0;34m,\u001b[0m \u001b[0mcv\u001b[0m\u001b[0;34m=\u001b[0m\u001b[0mcv\u001b[0m\u001b[0;34m,\u001b[0m \u001b[0mn_jobs\u001b[0m\u001b[0;34m=\u001b[0m\u001b[0;34m-\u001b[0m\u001b[0;36m1\u001b[0m\u001b[0;34m)\u001b[0m\u001b[0;34m\u001b[0m\u001b[0;34m\u001b[0m\u001b[0m\n\u001b[0m\u001b[1;32m      8\u001b[0m \u001b[0;31m# report the model performance\u001b[0m\u001b[0;34m\u001b[0m\u001b[0;34m\u001b[0m\u001b[0;34m\u001b[0m\u001b[0m\n\u001b[1;32m      9\u001b[0m \u001b[0mprint\u001b[0m\u001b[0;34m(\u001b[0m\u001b[0;34m'Mean Accuracy: %.3f (%.3f)'\u001b[0m \u001b[0;34m%\u001b[0m \u001b[0;34m(\u001b[0m\u001b[0mmean\u001b[0m\u001b[0;34m(\u001b[0m\u001b[0mn_scores\u001b[0m\u001b[0;34m)\u001b[0m\u001b[0;34m,\u001b[0m \u001b[0mstd\u001b[0m\u001b[0;34m(\u001b[0m\u001b[0mn_scores\u001b[0m\u001b[0;34m)\u001b[0m\u001b[0;34m)\u001b[0m\u001b[0;34m)\u001b[0m\u001b[0;34m\u001b[0m\u001b[0;34m\u001b[0m\u001b[0m\n",
            "\u001b[0;32m/usr/local/lib/python3.7/dist-packages/sklearn/model_selection/_validation.py\u001b[0m in \u001b[0;36mcross_val_score\u001b[0;34m(estimator, X, y, groups, scoring, cv, n_jobs, verbose, fit_params, pre_dispatch, error_score)\u001b[0m\n\u001b[1;32m    518\u001b[0m         \u001b[0mfit_params\u001b[0m\u001b[0;34m=\u001b[0m\u001b[0mfit_params\u001b[0m\u001b[0;34m,\u001b[0m\u001b[0;34m\u001b[0m\u001b[0;34m\u001b[0m\u001b[0m\n\u001b[1;32m    519\u001b[0m         \u001b[0mpre_dispatch\u001b[0m\u001b[0;34m=\u001b[0m\u001b[0mpre_dispatch\u001b[0m\u001b[0;34m,\u001b[0m\u001b[0;34m\u001b[0m\u001b[0;34m\u001b[0m\u001b[0m\n\u001b[0;32m--> 520\u001b[0;31m         \u001b[0merror_score\u001b[0m\u001b[0;34m=\u001b[0m\u001b[0merror_score\u001b[0m\u001b[0;34m,\u001b[0m\u001b[0;34m\u001b[0m\u001b[0;34m\u001b[0m\u001b[0m\n\u001b[0m\u001b[1;32m    521\u001b[0m     )\n\u001b[1;32m    522\u001b[0m     \u001b[0;32mreturn\u001b[0m \u001b[0mcv_results\u001b[0m\u001b[0;34m[\u001b[0m\u001b[0;34m\"test_score\"\u001b[0m\u001b[0;34m]\u001b[0m\u001b[0;34m\u001b[0m\u001b[0;34m\u001b[0m\u001b[0m\n",
            "\u001b[0;32m/usr/local/lib/python3.7/dist-packages/sklearn/model_selection/_validation.py\u001b[0m in \u001b[0;36mcross_validate\u001b[0;34m(estimator, X, y, groups, scoring, cv, n_jobs, verbose, fit_params, pre_dispatch, return_train_score, return_estimator, error_score)\u001b[0m\n\u001b[1;32m    281\u001b[0m             \u001b[0merror_score\u001b[0m\u001b[0;34m=\u001b[0m\u001b[0merror_score\u001b[0m\u001b[0;34m,\u001b[0m\u001b[0;34m\u001b[0m\u001b[0;34m\u001b[0m\u001b[0m\n\u001b[1;32m    282\u001b[0m         )\n\u001b[0;32m--> 283\u001b[0;31m         \u001b[0;32mfor\u001b[0m \u001b[0mtrain\u001b[0m\u001b[0;34m,\u001b[0m \u001b[0mtest\u001b[0m \u001b[0;32min\u001b[0m \u001b[0mcv\u001b[0m\u001b[0;34m.\u001b[0m\u001b[0msplit\u001b[0m\u001b[0;34m(\u001b[0m\u001b[0mX\u001b[0m\u001b[0;34m,\u001b[0m \u001b[0my\u001b[0m\u001b[0;34m,\u001b[0m \u001b[0mgroups\u001b[0m\u001b[0;34m)\u001b[0m\u001b[0;34m\u001b[0m\u001b[0;34m\u001b[0m\u001b[0m\n\u001b[0m\u001b[1;32m    284\u001b[0m     )\n\u001b[1;32m    285\u001b[0m \u001b[0;34m\u001b[0m\u001b[0m\n",
            "\u001b[0;32m/usr/local/lib/python3.7/dist-packages/joblib/parallel.py\u001b[0m in \u001b[0;36m__call__\u001b[0;34m(self, iterable)\u001b[0m\n\u001b[1;32m   1054\u001b[0m \u001b[0;34m\u001b[0m\u001b[0m\n\u001b[1;32m   1055\u001b[0m             \u001b[0;32mwith\u001b[0m \u001b[0mself\u001b[0m\u001b[0;34m.\u001b[0m\u001b[0m_backend\u001b[0m\u001b[0;34m.\u001b[0m\u001b[0mretrieval_context\u001b[0m\u001b[0;34m(\u001b[0m\u001b[0;34m)\u001b[0m\u001b[0;34m:\u001b[0m\u001b[0;34m\u001b[0m\u001b[0;34m\u001b[0m\u001b[0m\n\u001b[0;32m-> 1056\u001b[0;31m                 \u001b[0mself\u001b[0m\u001b[0;34m.\u001b[0m\u001b[0mretrieve\u001b[0m\u001b[0;34m(\u001b[0m\u001b[0;34m)\u001b[0m\u001b[0;34m\u001b[0m\u001b[0;34m\u001b[0m\u001b[0m\n\u001b[0m\u001b[1;32m   1057\u001b[0m             \u001b[0;31m# Make sure that we get a last message telling us we are done\u001b[0m\u001b[0;34m\u001b[0m\u001b[0;34m\u001b[0m\u001b[0;34m\u001b[0m\u001b[0m\n\u001b[1;32m   1058\u001b[0m             \u001b[0melapsed_time\u001b[0m \u001b[0;34m=\u001b[0m \u001b[0mtime\u001b[0m\u001b[0;34m.\u001b[0m\u001b[0mtime\u001b[0m\u001b[0;34m(\u001b[0m\u001b[0;34m)\u001b[0m \u001b[0;34m-\u001b[0m \u001b[0mself\u001b[0m\u001b[0;34m.\u001b[0m\u001b[0m_start_time\u001b[0m\u001b[0;34m\u001b[0m\u001b[0;34m\u001b[0m\u001b[0m\n",
            "\u001b[0;32m/usr/local/lib/python3.7/dist-packages/joblib/parallel.py\u001b[0m in \u001b[0;36mretrieve\u001b[0;34m(self)\u001b[0m\n\u001b[1;32m    933\u001b[0m             \u001b[0;32mtry\u001b[0m\u001b[0;34m:\u001b[0m\u001b[0;34m\u001b[0m\u001b[0;34m\u001b[0m\u001b[0m\n\u001b[1;32m    934\u001b[0m                 \u001b[0;32mif\u001b[0m \u001b[0mgetattr\u001b[0m\u001b[0;34m(\u001b[0m\u001b[0mself\u001b[0m\u001b[0;34m.\u001b[0m\u001b[0m_backend\u001b[0m\u001b[0;34m,\u001b[0m \u001b[0;34m'supports_timeout'\u001b[0m\u001b[0;34m,\u001b[0m \u001b[0;32mFalse\u001b[0m\u001b[0;34m)\u001b[0m\u001b[0;34m:\u001b[0m\u001b[0;34m\u001b[0m\u001b[0;34m\u001b[0m\u001b[0m\n\u001b[0;32m--> 935\u001b[0;31m                     \u001b[0mself\u001b[0m\u001b[0;34m.\u001b[0m\u001b[0m_output\u001b[0m\u001b[0;34m.\u001b[0m\u001b[0mextend\u001b[0m\u001b[0;34m(\u001b[0m\u001b[0mjob\u001b[0m\u001b[0;34m.\u001b[0m\u001b[0mget\u001b[0m\u001b[0;34m(\u001b[0m\u001b[0mtimeout\u001b[0m\u001b[0;34m=\u001b[0m\u001b[0mself\u001b[0m\u001b[0;34m.\u001b[0m\u001b[0mtimeout\u001b[0m\u001b[0;34m)\u001b[0m\u001b[0;34m)\u001b[0m\u001b[0;34m\u001b[0m\u001b[0;34m\u001b[0m\u001b[0m\n\u001b[0m\u001b[1;32m    936\u001b[0m                 \u001b[0;32melse\u001b[0m\u001b[0;34m:\u001b[0m\u001b[0;34m\u001b[0m\u001b[0;34m\u001b[0m\u001b[0m\n\u001b[1;32m    937\u001b[0m                     \u001b[0mself\u001b[0m\u001b[0;34m.\u001b[0m\u001b[0m_output\u001b[0m\u001b[0;34m.\u001b[0m\u001b[0mextend\u001b[0m\u001b[0;34m(\u001b[0m\u001b[0mjob\u001b[0m\u001b[0;34m.\u001b[0m\u001b[0mget\u001b[0m\u001b[0;34m(\u001b[0m\u001b[0;34m)\u001b[0m\u001b[0;34m)\u001b[0m\u001b[0;34m\u001b[0m\u001b[0;34m\u001b[0m\u001b[0m\n",
            "\u001b[0;32m/usr/local/lib/python3.7/dist-packages/joblib/_parallel_backends.py\u001b[0m in \u001b[0;36mwrap_future_result\u001b[0;34m(future, timeout)\u001b[0m\n\u001b[1;32m    540\u001b[0m         AsyncResults.get from multiprocessing.\"\"\"\n\u001b[1;32m    541\u001b[0m         \u001b[0;32mtry\u001b[0m\u001b[0;34m:\u001b[0m\u001b[0;34m\u001b[0m\u001b[0;34m\u001b[0m\u001b[0m\n\u001b[0;32m--> 542\u001b[0;31m             \u001b[0;32mreturn\u001b[0m \u001b[0mfuture\u001b[0m\u001b[0;34m.\u001b[0m\u001b[0mresult\u001b[0m\u001b[0;34m(\u001b[0m\u001b[0mtimeout\u001b[0m\u001b[0;34m=\u001b[0m\u001b[0mtimeout\u001b[0m\u001b[0;34m)\u001b[0m\u001b[0;34m\u001b[0m\u001b[0;34m\u001b[0m\u001b[0m\n\u001b[0m\u001b[1;32m    543\u001b[0m         \u001b[0;32mexcept\u001b[0m \u001b[0mCfTimeoutError\u001b[0m \u001b[0;32mas\u001b[0m \u001b[0me\u001b[0m\u001b[0;34m:\u001b[0m\u001b[0;34m\u001b[0m\u001b[0;34m\u001b[0m\u001b[0m\n\u001b[1;32m    544\u001b[0m             \u001b[0;32mraise\u001b[0m \u001b[0mTimeoutError\u001b[0m \u001b[0;32mfrom\u001b[0m \u001b[0me\u001b[0m\u001b[0;34m\u001b[0m\u001b[0;34m\u001b[0m\u001b[0m\n",
            "\u001b[0;32m/usr/lib/python3.7/concurrent/futures/_base.py\u001b[0m in \u001b[0;36mresult\u001b[0;34m(self, timeout)\u001b[0m\n\u001b[1;32m    428\u001b[0m                 \u001b[0;32mreturn\u001b[0m \u001b[0mself\u001b[0m\u001b[0;34m.\u001b[0m\u001b[0m__get_result\u001b[0m\u001b[0;34m(\u001b[0m\u001b[0;34m)\u001b[0m\u001b[0;34m\u001b[0m\u001b[0;34m\u001b[0m\u001b[0m\n\u001b[1;32m    429\u001b[0m \u001b[0;34m\u001b[0m\u001b[0m\n\u001b[0;32m--> 430\u001b[0;31m             \u001b[0mself\u001b[0m\u001b[0;34m.\u001b[0m\u001b[0m_condition\u001b[0m\u001b[0;34m.\u001b[0m\u001b[0mwait\u001b[0m\u001b[0;34m(\u001b[0m\u001b[0mtimeout\u001b[0m\u001b[0;34m)\u001b[0m\u001b[0;34m\u001b[0m\u001b[0;34m\u001b[0m\u001b[0m\n\u001b[0m\u001b[1;32m    431\u001b[0m \u001b[0;34m\u001b[0m\u001b[0m\n\u001b[1;32m    432\u001b[0m             \u001b[0;32mif\u001b[0m \u001b[0mself\u001b[0m\u001b[0;34m.\u001b[0m\u001b[0m_state\u001b[0m \u001b[0;32min\u001b[0m \u001b[0;34m[\u001b[0m\u001b[0mCANCELLED\u001b[0m\u001b[0;34m,\u001b[0m \u001b[0mCANCELLED_AND_NOTIFIED\u001b[0m\u001b[0;34m]\u001b[0m\u001b[0;34m:\u001b[0m\u001b[0;34m\u001b[0m\u001b[0;34m\u001b[0m\u001b[0m\n",
            "\u001b[0;32m/usr/lib/python3.7/threading.py\u001b[0m in \u001b[0;36mwait\u001b[0;34m(self, timeout)\u001b[0m\n\u001b[1;32m    294\u001b[0m         \u001b[0;32mtry\u001b[0m\u001b[0;34m:\u001b[0m    \u001b[0;31m# restore state no matter what (e.g., KeyboardInterrupt)\u001b[0m\u001b[0;34m\u001b[0m\u001b[0;34m\u001b[0m\u001b[0m\n\u001b[1;32m    295\u001b[0m             \u001b[0;32mif\u001b[0m \u001b[0mtimeout\u001b[0m \u001b[0;32mis\u001b[0m \u001b[0;32mNone\u001b[0m\u001b[0;34m:\u001b[0m\u001b[0;34m\u001b[0m\u001b[0;34m\u001b[0m\u001b[0m\n\u001b[0;32m--> 296\u001b[0;31m                 \u001b[0mwaiter\u001b[0m\u001b[0;34m.\u001b[0m\u001b[0macquire\u001b[0m\u001b[0;34m(\u001b[0m\u001b[0;34m)\u001b[0m\u001b[0;34m\u001b[0m\u001b[0;34m\u001b[0m\u001b[0m\n\u001b[0m\u001b[1;32m    297\u001b[0m                 \u001b[0mgotit\u001b[0m \u001b[0;34m=\u001b[0m \u001b[0;32mTrue\u001b[0m\u001b[0;34m\u001b[0m\u001b[0;34m\u001b[0m\u001b[0m\n\u001b[1;32m    298\u001b[0m             \u001b[0;32melse\u001b[0m\u001b[0;34m:\u001b[0m\u001b[0;34m\u001b[0m\u001b[0;34m\u001b[0m\u001b[0m\n",
            "\u001b[0;31mKeyboardInterrupt\u001b[0m: "
          ]
        }
      ]
    },
    {
      "cell_type": "code",
      "source": [
        "#Let's dig into the model a little bit more. Import some packages to assess model performance\n",
        "from statsmodels.tools import add_constant\n",
        "from sklearn import metrics\n",
        "\n",
        "#predict y using the model\n",
        "yhat = model.predict(x)\n",
        "#Build a confusion matrix, which shows you actual states vs. predicted states\n",
        "c_matrix = metrics.confusion_matrix(y, yhat)\n",
        "\n",
        "#show confusion matrix in grayscale\n",
        "plt.matshow(c_matrix, cmap=plt.cm.gray)\n",
        "plt.show()\n",
        "\n",
        "from sklearn.metrics import classification_report\n",
        "y_actual = pd.Series(y, name='Actual')\n",
        "y_predicted = pd.Series(yhat, name='Predicted')\n",
        "#Create classification report\n",
        "class_report=classification_report(y, y_predicted)\n",
        "print(class_report)\n",
        "#Precision = Tru Pos/ Tru Pos + False Pos (chance that it correctly identified a given class, given that it identified it)\n",
        "#Recall = Tru Pos/Tru Pos + Fals Neg (correct identification of actual class)"
      ],
      "metadata": {
        "id": "1OdJYXv2LCIp"
      },
      "execution_count": null,
      "outputs": []
    },
    {
      "cell_type": "markdown",
      "source": [
        "#### Ridge Regression by Mitchell"
      ],
      "metadata": {
        "id": "55JUdq4s4_cX"
      }
    },
    {
      "cell_type": "code",
      "source": [
        "# get counts of each annotation\n",
        "feature_df = feature_df.dropna()\n",
        "\n",
        "# Using lambda method to Shuffle/permutating DataFrame rows\n",
        "res_df = feature_df[feature_df.mouse_id == 0].reset_index(drop=True)\n",
        "intrude_df = feature_df[feature_df.mouse_id ==1].reset_index(drop=True)\n",
        "\n",
        "# shuffle data in rows so they no longer match up to the correct annotation\n",
        "intrude_shuffled = intrude_df.apply(lambda x: x.sample(frac=1).values).reset_index(drop=True)\n",
        "res_shuffled = res_df.apply(lambda x: x.sample(frac=1).values).reset_index(drop=True)\n",
        "\n",
        "# combine dataframes and randomly sample, dropping unshuffled multi features like distance\n",
        "multi_features = ['int_nose_2_res_tailbase_distance',\n",
        "       'res_nose_2_int_tailbase_distance', 'head_coalignment',\n",
        "       'intertailbase_distance', 'distance']\n",
        "res_only = pd.concat((res_df.drop(multi_features, axis = 1), intrude_shuffled.drop('annotations', axis = 1)), axis = 1).groupby('annotations').apply(lambda x: x.sample(12500, random_state=42)).reset_index(drop=True)\n",
        "intrude_only = pd.concat((intrude_df.drop(multi_features, axis = 1), res_shuffled.drop('annotations', axis = 1)), axis = 1).groupby('annotations').apply(lambda x: x.sample(12500, random_state=42)).reset_index(drop=True)\n",
        "combined_df = pd.concat((res_df.drop(multi_features, axis = 1),intrude_df.drop('annotations', axis = 1)), axis = 1).groupby('annotations').apply(lambda x: x.sample(12500, random_state=42)).reset_index(drop=True)\n",
        "null_df = pd.concat((res_shuffled.drop(multi_features, axis = 1),intrude_shuffled.drop('annotations', axis = 1)), axis = 1).groupby('annotations').apply(lambda x: x.sample(12500, random_state=42)).reset_index(drop=True)"
      ],
      "metadata": {
        "id": "S3aJ0-OT0TzK"
      },
      "execution_count": 7,
      "outputs": []
    },
    {
      "cell_type": "code",
      "source": [
        "print(feature_df.annotations.value_counts()/len(feature_df))"
      ],
      "metadata": {
        "id": "VkABhYfLh-sX",
        "outputId": "68e9268c-7970-452c-bc33-d058391fdf66",
        "colab": {
          "base_uri": "https://localhost:8080/"
        }
      },
      "execution_count": 50,
      "outputs": [
        {
          "output_type": "stream",
          "name": "stdout",
          "text": [
            "3    0.627215\n",
            "1    0.288780\n",
            "2    0.056362\n",
            "0    0.027644\n",
            "Name: annotations, dtype: float64\n"
          ]
        }
      ]
    },
    {
      "cell_type": "code",
      "source": [
        "print('Null', null_df.shape)\n",
        "print('Resident', res_only.shape)\n",
        "print('Intruder', intrude_only.shape)\n",
        "print('Combined', combined_df.shape)"
      ],
      "metadata": {
        "colab": {
          "base_uri": "https://localhost:8080/"
        },
        "id": "vKTG1usSFYdp",
        "outputId": "013006a7-d7e7-4b00-af85-d25dd645338e"
      },
      "execution_count": 8,
      "outputs": [
        {
          "output_type": "stream",
          "name": "stdout",
          "text": [
            "Null (50000, 74)\n",
            "Resident (50000, 74)\n",
            "Intruder (50000, 74)\n",
            "Combined (50000, 74)\n"
          ]
        }
      ]
    },
    {
      "cell_type": "code",
      "source": [
        "from sklearn.metrics import confusion_matrix, ConfusionMatrixDisplay\n",
        "def ridge_classifier_cv(X,Y):\n",
        "  \"\"\"\n",
        "  Instantiates sklearn's ridge regression classifier with cross validation for alpha \n",
        "  parameter.\n",
        "\n",
        "  Parameters\n",
        "  ----------\n",
        "  X: array-like\n",
        "    feature columns of dataframe\n",
        "  \n",
        "  Y: 1D array-like\n",
        "    behavior annotations N frames long\n",
        "\n",
        "  \"\"\"\n",
        "  reg = RidgeClassifier(alpha = 100, random_state = 42)\n",
        "  scores = cross_val_score(reg, X, Y, cv=5)\n",
        "\n",
        "  X_train, X_test, y_train, y_test = train_test_split(X, Y, random_state=0)\n",
        "  reg.fit(X_train, y_train)\n",
        "  predictions = reg.predict(X_test)\n",
        "\n",
        "  cm = confusion_matrix(y_test, predictions, labels=reg.classes_, normalize='true')\n",
        "  disp = ConfusionMatrixDisplay(confusion_matrix=cm, display_labels=reg.classes_) \n",
        "  # disp.plot()\n",
        "  # plt.show();\n",
        "  return scores, disp"
      ],
      "metadata": {
        "id": "oENv3hP_0aZS"
      },
      "execution_count": 45,
      "outputs": []
    },
    {
      "cell_type": "code",
      "source": [
        "from sklearn.manifold import TSNE\n",
        "import plotly.express as px\n",
        "import matplotlib\n",
        "# features = ['mouse_id','centroid_X',\n",
        "#        'centroid_Y', 'centroid_head_X', 'centroid_head_Y', 'centroid_body_X',\n",
        "#        'centroid_body_Y', 'head_vs_body_angle', 'head_orientation',\n",
        "#        'spd_head_centroid', 'spd_body_centroid', 'spd_centroid',\n",
        "#        'acc_head_centroid', 'acc_body_centroid', 'acc_centroid', 'distance',\n",
        "#        'poly_area_head', 'poly_area_body']\n",
        "drop_feats = ['frame_num', 'session_num', 'distance','annotations',\n",
        "       'nose_X', 'nose_Y', 'left_ear_X', 'left_ear_Y', 'neck_X', 'neck_Y',\n",
        "       'right_ear_X', 'right_ear_Y', 'left_hip_X', 'left_hip_Y', 'right_hip_X',\n",
        "       'right_hip_Y', 'tailbase_X', 'tailbase_Y', 'centroid_X', 'centroid_Y',\n",
        "       'centroid_head_X', 'centroid_head_Y', 'centroid_body_X',\n",
        "       'centroid_body_Y']\n",
        "model_names = ['Null', 'Resident', 'Intruder', 'Full']\n",
        "scores_dict = {}\n",
        "\n",
        "# plot confusion matrix\n",
        "num_cols = 2\n",
        "font = {\n",
        "        'weight' : 'bold',\n",
        "        'size'   : 12}\n",
        "\n",
        "matplotlib.rc('font', **font)\n",
        "\n",
        "fig, axes = plt.subplots(nrows=num_cols, ncols=num_cols, figsize=(16,12))\n",
        "fig.tight_layout(pad = 1.75)\n",
        "axes = axes.flatten()\n",
        "fig.suptitle('Model Accuracies by Behavior', y = 1.03)\n",
        "for idx, df in enumerate([null_df, res_only, intrude_only, combined_df]):\n",
        "  X = df.drop(drop_feats, axis = 1)\n",
        "  Y = df['annotations']\n",
        "  print(model_names[idx])\n",
        "\n",
        "  behaviors = ['attack', 'investigation', 'mount', 'other']\n",
        "  scores_dict[model_names[idx]], disp = ridge_classifier_cv(X,Y)\n",
        "  disp.plot(ax = axes[idx])\n",
        "  axes[idx].set(title=model_names[idx])\n",
        "  axes[idx].set_xticklabels(behaviors)\n",
        "  axes[idx].set_yticklabels(behaviors)\n",
        "  if idx == 0 or idx == 1:\n",
        "    axes[idx].set(xlabel = None)\n",
        "  if idx == 1 or idx == 3:\n",
        "    axes[idx].set(ylabel = None)\n",
        "  \n",
        "\n",
        "#   sampled = df.groupby('annotations').apply(lambda x: x.sample(100, random_state=42))\n",
        "#   sampled_X = sampled.drop(drop_feats, axis = 1)\n",
        "#   sampled_Y = sampled['annotations']\n",
        "#   tsne = TSNE(n_components = 3, random_state = 42)\n",
        "#   projections = tsne.fit_transform(sampled_X)\n",
        "#   tsne_fig = px.scatter_3d(\n",
        "#     projections, x=0, y=1, z=2,\n",
        "#     color=sampled_Y, labels={'color': 'Behavior'}\n",
        "# )\n",
        "#   tsne_fig.update_traces(marker_size=4)\n",
        "#   tsne_fig.show()\n",
        "\n",
        "scores_df = pd.DataFrame(scores_dict)"
      ],
      "metadata": {
        "id": "5iHer50a0fnB",
        "outputId": "6d8e1d32-f50e-48d1-a990-f49a4c51bf76",
        "colab": {
          "base_uri": "https://localhost:8080/",
          "height": 986
        }
      },
      "execution_count": 46,
      "outputs": [
        {
          "output_type": "stream",
          "name": "stdout",
          "text": [
            "Null\n",
            "Resident\n",
            "Intruder\n",
            "Full\n"
          ]
        },
        {
          "output_type": "display_data",
          "data": {
            "text/plain": [
              "<Figure size 1152x864 with 8 Axes>"
            ],
            "image/png": "[encoded data removed]"
          },
          "metadata": {
            "needs_background": "light"
          }
        }
      ]
    },
    {
      "cell_type": "code",
      "source": [
        "import seaborn as sns\n",
        "scores_df_clean = pd.melt(scores_df, var_name='model', value_name='CV_score')\n",
        "ax = sns.barplot(\n",
        "    x=\"model\", \n",
        "    y=\"CV_score\", palette='Blues', \n",
        "    data=scores_df_clean, \n",
        "    ci=\"sd\", \n",
        "    edgecolor=\"black\",\n",
        "    errcolor=\"black\",\n",
        "    errwidth=1.5,\n",
        "    capsize = 0.1,\n",
        "    alpha=0.5\n",
        ")\n",
        "\n",
        "sns.stripplot(\n",
        "    x=\"model\", \n",
        "    y=\"CV_score\", palette = 'Blues', edgecolor = 'black',\n",
        "    data=scores_df_clean, dodge=True, alpha=0.6, ax=ax)\n",
        "\n",
        "plt.legend([],[], frameon=False)"
      ],
      "metadata": {
        "id": "v2MjHMX_Hjg4"
      },
      "execution_count": null,
      "outputs": []
    },
    {
      "cell_type": "code",
      "source": [
        ""
      ],
      "metadata": {
        "id": "eoP0wdPILT6O"
      },
      "execution_count": null,
      "outputs": []
    }
  ]
}